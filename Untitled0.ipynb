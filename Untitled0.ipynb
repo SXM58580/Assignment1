{
  "nbformat": 4,
  "nbformat_minor": 0,
  "metadata": {
    "colab": {
      "provenance": [],
      "authorship_tag": "ABX9TyOU12++TuscEYsgeBTUp1w9",
      "include_colab_link": true
    },
    "kernelspec": {
      "name": "python3",
      "display_name": "Python 3"
    },
    "language_info": {
      "name": "python"
    }
  },
  "cells": [
    {
      "cell_type": "markdown",
      "metadata": {
        "id": "view-in-github",
        "colab_type": "text"
      },
      "source": [
        "<a href=\"https://colab.research.google.com/github/SXM58580/Assignment1/blob/main/Untitled0.ipynb\" target=\"_parent\"><img src=\"https://colab.research.google.com/assets/colab-badge.svg\" alt=\"Open In Colab\"/></a>"
      ]
    },
    {
      "cell_type": "code",
      "execution_count": 1,
      "metadata": {
        "colab": {
          "base_uri": "https://localhost:8080/"
        },
        "id": "7nwIMcsohnhk",
        "outputId": "02b8091c-f1d9-49c2-ece3-95ffa925c598"
      },
      "outputs": [
        {
          "output_type": "stream",
          "name": "stdout",
          "text": [
            "ages : [19, 19, 20, 22, 24, 24, 24, 25, 25, 26]\n",
            "Minimum age : 19\n",
            "Maximum age: 26\n",
            "Median of the ages: 24.0\n",
            "Average of the age: 22.75\n",
            "Range of ages: 7\n"
          ]
        }
      ],
      "source": [
        "import statistics\n",
        "\n",
        "#sorted the list\n",
        "ages = [19, 22, 19, 24, 20, 25, 26, 24, 25, 24]\n",
        "ages.sort()\n",
        "print(\"ages :\",ages)\n",
        "\n",
        "#minimum age among the list\n",
        "minimum = min(ages)\n",
        "print(\"Minimum age :\",minimum)\n",
        "\n",
        "#maaximum age among the list\n",
        "maximum  = max(ages)\n",
        "print(\"Maximum age:\",maximum)\n",
        "\n",
        "#adding maximum and minimum  age to the list\n",
        "ages.append(maximum)\n",
        "ages.append(minimum)\n",
        "\n",
        "#finding the median of ages\n",
        "medain_value = statistics.median(ages)\n",
        "print(\"Median of the ages:\",medain_value)\n",
        "\n",
        "#finding the average of ages\n",
        "mean_value = statistics.mean(ages)\n",
        "print(\"Average of the age:\",mean_value)\n",
        "\n",
        "#Range of the ages\n",
        "range_value  = max(ages) - min(ages)\n",
        "print(\"Range of ages:\",range_value)\n",
        "\n",
        "\n",
        "\n"
      ]
    },
    {
      "cell_type": "code",
      "source": [
        "#Dictionaries\n",
        "\n",
        "#created dog dictionary having certain keys and values\n",
        "dog = {\n",
        "    \"name\" : \"Bumbble\",\n",
        "     \"color\":\"white\",\n",
        "     \"breed\" :\"PUG\",\n",
        "     \"legs\":4,\n",
        "     \"age\":1\n",
        "}\n",
        "print(\"My Dog :\",dog)\n",
        "\n",
        "#created student dictionaries with certain keys and values.\n",
        "student = {\n",
        "    \"first_name\" : \"SWATHI\",\n",
        "    \"last_name\" :\"ARUKALA\",\n",
        "    \"gender\" :\"Female\",\n",
        "    \"age\":21,\n",
        "    \"marital_status\" :\"married\",\n",
        "    \"skills\" :[\"C programming\",\"node\",\"python\"],\n",
        "    \"country\":\"USA\",\n",
        "    \"city\":\"Overland Park\",\n",
        "    \"address\":\"5501 w 134thst\"\n",
        "}\n",
        "print(\"Sudent Details: \",student)\n",
        "\n",
        "\n",
        "#finding the length of student dictionary\n",
        "print(\"Length of student dictionary: \",len(student))\n",
        "\n",
        "#acessing the skills value and checking the data type\n",
        "print(student[\"skills\"])\n",
        "print(\"Type is:\",type(student['skills']))\n",
        "\n",
        "#updated the skills by adding another skills to the list\n",
        "student[\"skills\"].append(\"R programming\")\n",
        "print(\"Updated skills: \",student[\"skills\"])\n",
        "\n",
        "#Get dictionary keys as list\n",
        "keys = student.keys()\n",
        "print(\"Dictionary Keys are: \",keys)\n",
        "\n",
        "#Get dictionary values as list\n",
        "values = student.values()\n",
        "print(\"Dictionary Values are: \",values)"
      ],
      "metadata": {
        "colab": {
          "base_uri": "https://localhost:8080/"
        },
        "id": "cqMDSxQqj7iB",
        "outputId": "f99cf02e-c3f4-44f8-9ef8-3502df572808"
      },
      "execution_count": 2,
      "outputs": [
        {
          "output_type": "stream",
          "name": "stdout",
          "text": [
            "My Dog : {'name': 'Bumbble', 'color': 'white', 'breed': 'PUG', 'legs': 4, 'age': 1}\n",
            "Sudent Details:  {'first_name': 'SWATHI', 'last_name': 'ARUKALA', 'gender': 'Female', 'age': 21, 'marital_status': 'married', 'skills': ['C programming', 'node', 'python'], 'country': 'USA', 'city': 'Overland Park', 'address': '5501 w 134thst'}\n",
            "Length of student dictionary:  9\n",
            "['C programming', 'node', 'python']\n",
            "Type is: <class 'list'>\n",
            "Updated skills:  ['C programming', 'node', 'python', 'R programming']\n",
            "Dictionary Keys are:  dict_keys(['first_name', 'last_name', 'gender', 'age', 'marital_status', 'skills', 'country', 'city', 'address'])\n",
            "Dictionary Values are:  dict_values(['SWATHI', 'ARUKALA', 'Female', 21, 'married', ['C programming', 'node', 'python', 'R programming'], 'USA', 'Overland Park', '5501 w 134thst'])\n"
          ]
        }
      ]
    },
    {
      "cell_type": "code",
      "source": [
        "#TUPLE\n",
        "\n",
        "#Created brother tuple\n",
        "brother_tuple = (\"joseph\",\"james\",\"rajesh\",\"vamshi\",\"vijay\")\n",
        "\n",
        "#Created sister tuple\n",
        "sister_tuple = (\"swetha\",\"kejia\",\"hema\",\"suhana\")\n",
        "\n",
        "#Joined brothers and sister tuple and assigned to sibligs\n",
        "siblings_tuple = brother_tuple + sister_tuple\n",
        "\n",
        "#Finding the length of siblings tuple\n",
        "print(len(siblings_tuple))\n",
        "\n",
        "\n",
        "#Creating parents tuple\n",
        "parents_tuple =(\"rajashekar\",\"yoshitha\")\n",
        "\n",
        "#joining parents and siblings tuple to a new tuple family_tuplle\n",
        "family_tuple = siblings_tuple + parents_tuple\n",
        "\n",
        "print(\"Family: \",family_tuple)\n",
        "\n",
        "\n",
        "\n"
      ],
      "metadata": {
        "colab": {
          "base_uri": "https://localhost:8080/"
        },
        "id": "mQornN75lPvB",
        "outputId": "e9143b5f-e1d0-4330-b070-210114a6cb95"
      },
      "execution_count": 3,
      "outputs": [
        {
          "output_type": "stream",
          "name": "stdout",
          "text": [
            "9\n",
            "Family:  ('joseph', 'james', 'rajesh', 'vamshi', 'vijay', 'swetha', 'kejia', 'hema', 'suhana', 'rajashekar', 'yoshitha')\n"
          ]
        }
      ]
    }
  ]
}