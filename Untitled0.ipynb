{
  "nbformat": 4,
  "nbformat_minor": 0,
  "metadata": {
    "colab": {
      "provenance": [],
      "authorship_tag": "ABX9TyM7iuIIMsiTWZUizNkbN28I",
      "include_colab_link": true
    },
    "kernelspec": {
      "name": "python3",
      "display_name": "Python 3"
    },
    "language_info": {
      "name": "python"
    }
  },
  "cells": [
    {
      "cell_type": "markdown",
      "metadata": {
        "id": "view-in-github",
        "colab_type": "text"
      },
      "source": [
        "<a href=\"https://colab.research.google.com/github/SXM58580/Assignment1/blob/main/Untitled0.ipynb\" target=\"_parent\"><img src=\"https://colab.research.google.com/assets/colab-badge.svg\" alt=\"Open In Colab\"/></a>"
      ]
    },
    {
      "cell_type": "code",
      "execution_count": 1,
      "metadata": {
        "colab": {
          "base_uri": "https://localhost:8080/"
        },
        "id": "7nwIMcsohnhk",
        "outputId": "02b8091c-f1d9-49c2-ece3-95ffa925c598"
      },
      "outputs": [
        {
          "output_type": "stream",
          "name": "stdout",
          "text": [
            "ages : [19, 19, 20, 22, 24, 24, 24, 25, 25, 26]\n",
            "Minimum age : 19\n",
            "Maximum age: 26\n",
            "Median of the ages: 24.0\n",
            "Average of the age: 22.75\n",
            "Range of ages: 7\n"
          ]
        }
      ],
      "source": [
        "import statistics\n",
        "\n",
        "#sorted the list\n",
        "ages = [19, 22, 19, 24, 20, 25, 26, 24, 25, 24]\n",
        "ages.sort()\n",
        "print(\"ages :\",ages)\n",
        "\n",
        "#minimum age among the list\n",
        "minimum = min(ages)\n",
        "print(\"Minimum age :\",minimum)\n",
        "\n",
        "#maaximum age among the list\n",
        "maximum  = max(ages)\n",
        "print(\"Maximum age:\",maximum)\n",
        "\n",
        "#adding maximum and minimum  age to the list\n",
        "ages.append(maximum)\n",
        "ages.append(minimum)\n",
        "\n",
        "#finding the median of ages\n",
        "medain_value = statistics.median(ages)\n",
        "print(\"Median of the ages:\",medain_value)\n",
        "\n",
        "#finding the average of ages\n",
        "mean_value = statistics.mean(ages)\n",
        "print(\"Average of the age:\",mean_value)\n",
        "\n",
        "#Range of the ages\n",
        "range_value  = max(ages) - min(ages)\n",
        "print(\"Range of ages:\",range_value)\n",
        "\n",
        "\n",
        "\n"
      ]
    },
    {
      "cell_type": "code",
      "source": [
        "#Dictionaries\n",
        "\n",
        "#created dog dictionary having certain keys and values\n",
        "dog = {\n",
        "    \"name\" : \"Bumbble\",\n",
        "     \"color\":\"white\",\n",
        "     \"breed\" :\"PUG\",\n",
        "     \"legs\":4,\n",
        "     \"age\":1\n",
        "}\n",
        "print(\"My Dog :\",dog)\n",
        "\n",
        "#created student dictionaries with certain keys and values.\n",
        "student = {\n",
        "    \"first_name\" : \"SWATHI\",\n",
        "    \"last_name\" :\"ARUKALA\",\n",
        "    \"gender\" :\"Female\",\n",
        "    \"age\":21,\n",
        "    \"marital_status\" :\"married\",\n",
        "    \"skills\" :[\"C programming\",\"node\",\"python\"],\n",
        "    \"country\":\"USA\",\n",
        "    \"city\":\"Overland Park\",\n",
        "    \"address\":\"5501 w 134thst\"\n",
        "}\n",
        "print(\"Sudent Details: \",student)\n",
        "\n",
        "\n",
        "#finding the length of student dictionary\n",
        "print(\"Length of student dictionary: \",len(student))\n",
        "\n",
        "#acessing the skills value and checking the data type\n",
        "print(student[\"skills\"])\n",
        "print(\"Type is:\",type(student['skills']))\n",
        "\n",
        "#updated the skills by adding another skills to the list\n",
        "student[\"skills\"].append(\"R programming\")\n",
        "print(\"Updated skills: \",student[\"skills\"])\n",
        "\n",
        "#Get dictionary keys as list\n",
        "keys = student.keys()\n",
        "print(\"Dictionary Keys are: \",keys)\n",
        "\n",
        "#Get dictionary values as list\n",
        "values = student.values()\n",
        "print(\"Dictionary Values are: \",values)"
      ],
      "metadata": {
        "colab": {
          "base_uri": "https://localhost:8080/"
        },
        "id": "cqMDSxQqj7iB",
        "outputId": "f99cf02e-c3f4-44f8-9ef8-3502df572808"
      },
      "execution_count": 2,
      "outputs": [
        {
          "output_type": "stream",
          "name": "stdout",
          "text": [
            "My Dog : {'name': 'Bumbble', 'color': 'white', 'breed': 'PUG', 'legs': 4, 'age': 1}\n",
            "Sudent Details:  {'first_name': 'SWATHI', 'last_name': 'ARUKALA', 'gender': 'Female', 'age': 21, 'marital_status': 'married', 'skills': ['C programming', 'node', 'python'], 'country': 'USA', 'city': 'Overland Park', 'address': '5501 w 134thst'}\n",
            "Length of student dictionary:  9\n",
            "['C programming', 'node', 'python']\n",
            "Type is: <class 'list'>\n",
            "Updated skills:  ['C programming', 'node', 'python', 'R programming']\n",
            "Dictionary Keys are:  dict_keys(['first_name', 'last_name', 'gender', 'age', 'marital_status', 'skills', 'country', 'city', 'address'])\n",
            "Dictionary Values are:  dict_values(['SWATHI', 'ARUKALA', 'Female', 21, 'married', ['C programming', 'node', 'python', 'R programming'], 'USA', 'Overland Park', '5501 w 134thst'])\n"
          ]
        }
      ]
    },
    {
      "cell_type": "code",
      "source": [
        "#TUPLE\n",
        "\n",
        "#Created brother tuple\n",
        "brother_tuple = (\"joseph\",\"james\",\"rajesh\",\"vamshi\",\"vijay\")\n",
        "\n",
        "#Created sister tuple\n",
        "sister_tuple = (\"swetha\",\"kejia\",\"hema\",\"suhana\")\n",
        "\n",
        "#Joined brothers and sister tuple and assigned to sibligs\n",
        "siblings_tuple = brother_tuple + sister_tuple\n",
        "\n",
        "#Finding the length of siblings tuple\n",
        "print(len(siblings_tuple))\n",
        "\n",
        "\n",
        "#Creating parents tuple\n",
        "parents_tuple =(\"rajashekar\",\"yoshitha\")\n",
        "\n",
        "#joining parents and siblings tuple to a new tuple family_tuplle\n",
        "family_tuple = siblings_tuple + parents_tuple\n",
        "\n",
        "print(\"Family: \",family_tuple)\n",
        "\n",
        "\n",
        "\n"
      ],
      "metadata": {
        "colab": {
          "base_uri": "https://localhost:8080/"
        },
        "id": "mQornN75lPvB",
        "outputId": "e9143b5f-e1d0-4330-b070-210114a6cb95"
      },
      "execution_count": 3,
      "outputs": [
        {
          "output_type": "stream",
          "name": "stdout",
          "text": [
            "9\n",
            "Family:  ('joseph', 'james', 'rajesh', 'vamshi', 'vijay', 'swetha', 'kejia', 'hema', 'suhana', 'rajashekar', 'yoshitha')\n"
          ]
        }
      ]
    },
    {
      "cell_type": "code",
      "source": [
        "#Set\n",
        "\n",
        "#Created a set of IT Companies and finding the length of set\n",
        "it_companies = {'Facebook', 'Google', 'Microsoft', 'Apple', 'IBM', 'Oracle', 'Amazon'}\n",
        "print(\"Length of set is \",len(it_companies))\n",
        "\n",
        "#Adding / Updating the value to the set\n",
        "it_companies.add(\"Twitter\")\n",
        "print(\"Updated set: \",it_companies)\n",
        "\n",
        "#Adding / Updating multiple values to the set\n",
        "it_companies.update([\"Cognizant\",\"TCS\",\"Accenture\",\"MindTree\"])\n",
        "print(\"Updated Set of multiple values: \",it_companies)\n",
        "\n",
        "#Remove value from the set\n",
        "it_companies.remove('TCS')\n",
        "print(\"Updated Set: \",it_companies)\n",
        "\n",
        "A = {19, 22, 24, 20, 25, 26}\n",
        "B = {19, 22, 20, 25, 26, 24, 28, 27}\n",
        "\n",
        "#Joining A and B\n",
        "C = A.union(B)\n",
        "print(\"New Set: \",C)\n",
        "\n",
        "#finding the intersection of A and B\n",
        "D = A.intersection(B)\n",
        "print(\"new set:\",D)\n",
        "\n",
        "\n",
        "#Is A subset of B?\n",
        "print(\"Is A subset of B? \",A.issubset(B))\n",
        "\n",
        "#Are A and B disjoint sets\n",
        "print(\"Are A and B disjoint sets? \",A.isdisjoint(B))\n",
        "\n",
        "#Join A with B and B with A\n",
        "print(\"Joining A with B: \",A.union(B))\n",
        "print(\"Joining B with A: \",B.union(A))\n",
        "\n",
        "#Symmetric difference of 2 sets\n",
        "print(\"Symmetric Difference: \",A.symmetric_difference(B))\n",
        "\n",
        "#Deleted the sets Completely\n",
        "del A\n",
        "del B\n",
        "\n",
        "\n",
        "age = [22, 19, 24, 25, 26, 24, 25, 24]\n",
        "#Converting the list into set\n",
        "age_set = set(age)\n",
        "print(\"Age : \",age_set)\n",
        "\n",
        "#Comparing the length of age in set with age in list\n",
        "print(\"Length age in list: \",len(age))\n",
        "print(\"Length of age in set: \",len(age_set))\n",
        "if(len(age)>len(age_set)):\n",
        "    print(\"List is larger\")\n",
        "else:\n",
        "    print(\"Set is larger\")\n",
        "\n",
        "##########################################################################################################################################\n",
        "#What is the difference between remove and discard?\n",
        "#The major purpose of remove and discard is to delete an element from the set.\n",
        "#although both have various functionality\n",
        "\n",
        "#remove : set.remove() throws an error if there is no specified element in the list \n",
        "# num = {\"1\",\"2\",\"3\",\"4\",\"5\",\"6\"}\n",
        "# num.remove(\"1\")\n",
        "# print(num)\n",
        "# num.remove(\"7\")\n",
        "# print(num)\n",
        "\n",
        "#discard :set.discard() removes the specified element and doesnt throw the error message\n",
        "# num = {\"1\",\"2\",\"3\",\"4\",\"5\",\"6\"}\n",
        "# num.discard(\"1\")\n",
        "# print(num)\n",
        "# num.discard(\"7\")\n",
        "# print(num)\n",
        "#########################################################################################################################################"
      ],
      "metadata": {
        "colab": {
          "base_uri": "https://localhost:8080/"
        },
        "id": "hLO7JvZymjv5",
        "outputId": "d8f5e413-c141-41f7-a582-d1014c1957a0"
      },
      "execution_count": 4,
      "outputs": [
        {
          "output_type": "stream",
          "name": "stdout",
          "text": [
            "Length of set is  7\n",
            "Updated set:  {'Google', 'Oracle', 'Apple', 'Facebook', 'IBM', 'Microsoft', 'Amazon', 'Twitter'}\n",
            "Updated Set of multiple values:  {'Google', 'Accenture', 'Oracle', 'MindTree', 'Apple', 'Cognizant', 'Facebook', 'IBM', 'TCS', 'Microsoft', 'Amazon', 'Twitter'}\n",
            "Updated Set:  {'Google', 'Accenture', 'Oracle', 'MindTree', 'Apple', 'Cognizant', 'Facebook', 'IBM', 'Microsoft', 'Amazon', 'Twitter'}\n",
            "New Set:  {19, 20, 22, 24, 25, 26, 27, 28}\n",
            "new set: {19, 20, 22, 24, 25, 26}\n",
            "Is A subset of B?  True\n",
            "Are A and B disjoint sets?  False\n",
            "Joining A with B:  {19, 20, 22, 24, 25, 26, 27, 28}\n",
            "Joining B with A:  {19, 20, 22, 24, 25, 26, 27, 28}\n",
            "Symmetric Difference:  {27, 28}\n",
            "Age :  {19, 22, 24, 25, 26}\n",
            "Length age in list:  8\n",
            "Length of age in set:  5\n",
            "List is larger\n"
          ]
        }
      ]
    },
    {
      "cell_type": "code",
      "source": [
        "#radius is 30 meters\n",
        "\n",
        "#Area of circle pi*radius^2\n",
        "import math\n",
        "radius = 30\n",
        "_area_of_circle_= math.pi*radius**2\n",
        "print(\"Area of Circle = \",_area_of_circle_)\n",
        "\n",
        "#Circumference of Circle is 2*pi*radius\n",
        "_circum_of_circle_ = math.pi*2*radius\n",
        "print(\"Circumference of Circle = \",_circum_of_circle_)\n",
        "\n",
        "#Taking radius as user input\n",
        "radius_inp = int(input(\"enter the radius = \"))\n",
        "_area_of_circle_= math.pi*radius_inp**2\n",
        "print(\"Area of Circle = \",_area_of_circle_)\n",
        "\n"
      ],
      "metadata": {
        "colab": {
          "base_uri": "https://localhost:8080/"
        },
        "id": "Ih1rz6DOm6j7",
        "outputId": "79526d9b-7797-4178-c521-601fbdf79ab1"
      },
      "execution_count": 5,
      "outputs": [
        {
          "output_type": "stream",
          "name": "stdout",
          "text": [
            "Area of Circle =  2827.4333882308138\n",
            "Circumference of Circle =  188.49555921538757\n",
            "enter the radius = 28\n",
            "Area of Circle =  2463.0086404143976\n"
          ]
        }
      ]
    },
    {
      "cell_type": "code",
      "source": [
        "Striing = \"I am a teacher and I love to inspire and teach people\"\n",
        "\n",
        "#Splitting the string using the set to get the unique words\n",
        "split_strings = set(Striing.split(\" \"))\n",
        "print(\"Unique Words: \",split_strings)\n",
        "\n",
        "#Finding the count of unique words\n",
        "print(\"Number of unique words = \",len(split_strings))\n"
      ],
      "metadata": {
        "colab": {
          "base_uri": "https://localhost:8080/"
        },
        "id": "zEsFVkw5nLV3",
        "outputId": "84464f63-d3a6-48ac-c8ec-41393cf63a20"
      },
      "execution_count": 6,
      "outputs": [
        {
          "output_type": "stream",
          "name": "stdout",
          "text": [
            "Unique Words:  {'love', 'a', 'and', 'inspire', 'to', 'teacher', 'I', 'teach', 'am', 'people'}\n",
            "Number of unique words =  10\n"
          ]
        }
      ]
    },
    {
      "cell_type": "code",
      "source": [
        "#tab sequence gives a tab spce between the strings\n",
        "Str1 = \"Name\\t\\tAge\\tCountry\\tCity\"\n",
        "print(Str1)\n",
        "Str2 = \"Asabeneh\\t250\\tFinland\\tHelsinki\"\n",
        "print(Str2)"
      ],
      "metadata": {
        "colab": {
          "base_uri": "https://localhost:8080/"
        },
        "id": "39-0e5kUndCz",
        "outputId": "16ad9d09-8865-49df-d09f-ddcc76589a64"
      },
      "execution_count": 7,
      "outputs": [
        {
          "output_type": "stream",
          "name": "stdout",
          "text": [
            "Name\t\tAge\tCountry\tCity\n",
            "Asabeneh\t250\tFinland\tHelsinki\n"
          ]
        }
      ]
    }
  ]
}