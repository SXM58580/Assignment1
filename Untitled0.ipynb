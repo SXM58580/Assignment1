{
  "nbformat": 4,
  "nbformat_minor": 0,
  "metadata": {
    "colab": {
      "provenance": [],
      "authorship_tag": "ABX9TyPF7zWBaIcuap1/d0bFbl1C",
      "include_colab_link": true
    },
    "kernelspec": {
      "name": "python3",
      "display_name": "Python 3"
    },
    "language_info": {
      "name": "python"
    }
  },
  "cells": [
    {
      "cell_type": "markdown",
      "metadata": {
        "id": "view-in-github",
        "colab_type": "text"
      },
      "source": [
        "<a href=\"https://colab.research.google.com/github/SXM58580/Assignment1/blob/main/Untitled0.ipynb\" target=\"_parent\"><img src=\"https://colab.research.google.com/assets/colab-badge.svg\" alt=\"Open In Colab\"/></a>"
      ]
    },
    {
      "cell_type": "code",
      "execution_count": 1,
      "metadata": {
        "colab": {
          "base_uri": "https://localhost:8080/"
        },
        "id": "7nwIMcsohnhk",
        "outputId": "02b8091c-f1d9-49c2-ece3-95ffa925c598"
      },
      "outputs": [
        {
          "output_type": "stream",
          "name": "stdout",
          "text": [
            "ages : [19, 19, 20, 22, 24, 24, 24, 25, 25, 26]\n",
            "Minimum age : 19\n",
            "Maximum age: 26\n",
            "Median of the ages: 24.0\n",
            "Average of the age: 22.75\n",
            "Range of ages: 7\n"
          ]
        }
      ],
      "source": [
        "import statistics\n",
        "\n",
        "#sorted the list\n",
        "ages = [19, 22, 19, 24, 20, 25, 26, 24, 25, 24]\n",
        "ages.sort()\n",
        "print(\"ages :\",ages)\n",
        "\n",
        "#minimum age among the list\n",
        "minimum = min(ages)\n",
        "print(\"Minimum age :\",minimum)\n",
        "\n",
        "#maaximum age among the list\n",
        "maximum  = max(ages)\n",
        "print(\"Maximum age:\",maximum)\n",
        "\n",
        "#adding maximum and minimum  age to the list\n",
        "ages.append(maximum)\n",
        "ages.append(minimum)\n",
        "\n",
        "#finding the median of ages\n",
        "medain_value = statistics.median(ages)\n",
        "print(\"Median of the ages:\",medain_value)\n",
        "\n",
        "#finding the average of ages\n",
        "mean_value = statistics.mean(ages)\n",
        "print(\"Average of the age:\",mean_value)\n",
        "\n",
        "#Range of the ages\n",
        "range_value  = max(ages) - min(ages)\n",
        "print(\"Range of ages:\",range_value)\n",
        "\n",
        "\n",
        "\n"
      ]
    }
  ]
}